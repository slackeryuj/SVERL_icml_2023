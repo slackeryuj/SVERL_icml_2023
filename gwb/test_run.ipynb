{
 "cells": [
  {
   "cell_type": "code",
   "execution_count": null,
   "id": "initial_id",
   "metadata": {
    "collapsed": true
   },
   "outputs": [],
   "source": []
  },
  {
   "cell_type": "code",
   "outputs": [],
   "source": [
    "import sys\n",
    "# sys.path.insert(0, '../')\n",
    "sys.path.append(\"E:/XAI/RL_with_SHAP/pythonProject1/SVERL_icml_2023\")\n",
    "from SVERL_icml_2023.q_agent_1 import Agent\n",
    "from SVERL_icml_2023.gwa.gwa import Grid\n",
    "from SVERL_icml_2023.utils import train, get_state_dist, F_not_i, tqdm_label\n",
    "# from SVERL_icml_2023.characteristics import Characteristics\n",
    "from SVERL_icml_2023.characteristics import Characteristics\n",
    "from SVERL_icml_2023.shapley import Shapley\n",
    "import numpy as np"
   ],
   "metadata": {
    "collapsed": false,
    "ExecuteTime": {
     "end_time": "2025-01-12T19:31:55.905327Z",
     "start_time": "2025-01-12T19:31:55.783300Z"
    }
   },
   "id": "bd7afc6aaffb037d",
   "execution_count": 1
  },
  {
   "cell_type": "code",
   "outputs": [],
   "source": [
    "\n",
    "env = Grid()\n",
    "agent = Agent(env.state_dim, env.num_actions, epsilon=1, gamma=1, alpha=0.2)\n",
    "states_to_explain = np.array([[0, 0], [0, 1], [1, 0], [1, 1]]) # Explaining all states."
   ],
   "metadata": {
    "collapsed": false,
    "ExecuteTime": {
     "end_time": "2025-01-12T19:31:57.510749Z",
     "start_time": "2025-01-12T19:31:57.498747Z"
    }
   },
   "id": "a27e7af401086f57",
   "execution_count": 2
  },
  {
   "cell_type": "code",
   "outputs": [
    {
     "name": "stderr",
     "output_type": "stream",
     "text": [
      "Training Agent: 100%|██████████| 10000000/10000000 [03:19<00:00, 50145.70it/s]\n"
     ]
    }
   ],
   "source": [
    "\n",
    "# ------------------------------------------------- TRAIN\n",
    "train(agent, env, 1e7)"
   ],
   "metadata": {
    "collapsed": false,
    "ExecuteTime": {
     "end_time": "2025-01-12T19:35:19.834430Z",
     "start_time": "2025-01-12T19:32:00.400531Z"
    }
   },
   "id": "fb28459c839e2666",
   "execution_count": 3
  },
  {
   "cell_type": "code",
   "outputs": [
    {
     "name": "stderr",
     "output_type": "stream",
     "text": [
      "Approximating State Distribution: 100%|██████████| 10000000/10000000 [07:39<00:00, 21786.27it/s]\n"
     ]
    }
   ],
   "source": [
    "# ------------------------------------------------- GET AGENT'S POLICY\n",
    "agent.get_policy()\n",
    "\n",
    "# ------------------------------------------------- APPROXIMATE STATE DIST\n",
    "state_dist = get_state_dist(agent, env, 1e7)\n",
    "\n",
    "# ------------------------------------------------- GET AGENT'S VALUE TABLE (for Shapley on value function)\n",
    "agent.get_value_table()"
   ],
   "metadata": {
    "collapsed": false,
    "ExecuteTime": {
     "end_time": "2025-01-12T19:43:51.229623Z",
     "start_time": "2025-01-12T19:36:12.208960Z"
    }
   },
   "id": "be0e7b7b3be3e141",
   "execution_count": 4
  },
  {
   "cell_type": "code",
   "outputs": [
    {
     "name": "stderr",
     "output_type": "stream",
     "text": [
      "Calculating all pi_C: 100%|██████████| 4/4 [00:00<00:00, 2000.38it/s]\n",
      "Calculating all v_C: 100%|██████████| 4/4 [00:00<00:00, 4004.11it/s]\n",
      "Calculating Characteristics: 100%|██████████| 1/1 [03:20<00:00, 200.92s/it]\n",
      "Calculating Characteristics: 100%|██████████| 1/1 [03:21<00:00, 201.72s/it]\n",
      "Calculating Characteristics: 100%|██████████| 1/1 [00:00<00:00,  1.88it/s]\n",
      "Calculating Characteristics: 100%|██████████| 1/1 [00:00<00:00,  1.89it/s]\n"
     ]
    }
   ],
   "source": [
    "from SVERL_icml_2023.characteristics import Characteristics\n",
    "# ------------------------------------------------- ALL PI_C\n",
    "pi_Cs = {tuple(C): agent.get_pi_C(C, state_dist, states_to_explain) for C in tqdm_label(F_not_i(np.arange(env.state_dim)), 'Calculating all pi_C')}\n",
    "\n",
    "# ------------------------------------------------- ALL V_C\n",
    "v_Cs = {tuple(C): agent.get_v_C(C, state_dist, states_to_explain) for C in tqdm_label(F_not_i(np.arange(env.state_dim)), 'Calculating all v_C')}\n",
    "\n",
    "# ------------------------------------------------- ALL CHARACTERISTIC VALUES\n",
    "characteristics = Characteristics(env, states_to_explain)\n",
    "local_sverl_characteristics = characteristics.local_sverl_C_values(num_rolls=1e6, pi_Cs=pi_Cs, multi_process=True, num_p=5)\n",
    "global_sverl_characteristics = characteristics.global_sverl_C_values(num_rolls=1e6, pi_Cs=pi_Cs, multi_process=True, num_p=5)\n",
    "shapley_on_policy_characteristics = characteristics.shapley_on_policy(pi_Cs=pi_Cs, multi_process=True, num_p=5)\n",
    "shapley_on_value_characteristics = characteristics.shapley_on_value(v_Cs=v_Cs, multi_process=True, num_p=5)\n"
   ],
   "metadata": {
    "collapsed": false,
    "ExecuteTime": {
     "end_time": "2025-01-12T19:51:07.554040Z",
     "start_time": "2025-01-12T19:44:23.225575Z"
    }
   },
   "id": "5d34a8eba8a50c5c",
   "execution_count": 5
  },
  {
   "cell_type": "code",
   "outputs": [
    {
     "name": "stdout",
     "output_type": "stream",
     "text": [
      "{(0, 0): [0.0, 0.0], (0, 1): [0.0, 0.0], (1, 0): [0.0, 0.0], (1, 1): [0.0, 0.0]}\n",
      "{(0, 0): [0.0, 0.0], (0, 1): [0.0, 0.0], (1, 0): [0.0, 0.0], (1, 1): [0.0, 0.0]}\n",
      "{(0, 0): [array([0., 0., 0., 0.]), array([0., 0., 0., 0.])], (0, 1): [array([0., 0., 0., 0.]), array([0., 0., 0., 0.])], (1, 0): [array([0., 0., 0., 0.]), array([0., 0., 0., 0.])], (1, 1): [array([0., 0., 0., 0.]), array([0., 0., 0., 0.])]}\n",
      "{(0, 0): [0.0, -0.5000000000000018], (0, 1): [0.0, 0.5], (1, 0): [0.0, -0.5000000000000018], (1, 1): [0.0, 0.5]}\n"
     ]
    }
   ],
   "source": [
    "# ------------------------------------------------- SHAPLEY VALUES\n",
    "shapley = Shapley(states_to_explain)\n",
    "for characteristics, filename in zip([local_sverl_characteristics, \n",
    "                                      global_sverl_characteristics, \n",
    "                                      shapley_on_policy_characteristics, \n",
    "                                      shapley_on_value_characteristics], ['local', 'global', 'policy', 'value_function']):\n",
    "    \n",
    "    shapley_values = shapley.run(characteristics)\n",
    "    print(shapley_values)\n",
    "\n",
    "    import pickle\n",
    "    with open('{}.pkl'.format(filename), 'wb') as file: pickle.dump(shapley_values, file)\n"
   ],
   "metadata": {
    "collapsed": false,
    "ExecuteTime": {
     "end_time": "2025-01-12T19:55:55.594744Z",
     "start_time": "2025-01-12T19:55:55.563694Z"
    }
   },
   "id": "9680201a4c8afdff",
   "execution_count": 6
  },
  {
   "cell_type": "code",
   "outputs": [
    {
     "data": {
      "text/plain": "<_io.BufferedWriter name='value_function.pkl'>"
     },
     "execution_count": 8,
     "metadata": {},
     "output_type": "execute_result"
    }
   ],
   "source": [
    "file"
   ],
   "metadata": {
    "collapsed": false,
    "ExecuteTime": {
     "end_time": "2025-01-12T19:57:13.000630Z",
     "start_time": "2025-01-12T19:57:12.988133Z"
    }
   },
   "id": "c7b6bcb829d35705",
   "execution_count": 8
  },
  {
   "cell_type": "code",
   "outputs": [],
   "source": [],
   "metadata": {
    "collapsed": false
   },
   "id": "6c7209e8fa9b5ca9"
  },
  {
   "cell_type": "code",
   "outputs": [],
   "source": [
    "\n",
    "env = Grid()\n",
    "agent = Agent(env.state_dim, env.num_actions, epsilon=1, gamma=1, alpha=0.2)\n",
    "states_to_explain = np.array([[0, 0], [0, 1], [1, 0], [1, 1]]) # Explaining all states.\n",
    "\n",
    "# ------------------------------------------------- TRAIN\n",
    "train(agent, env, 1e7)\n",
    "\n",
    "# ------------------------------------------------- GET AGENT'S POLICY\n",
    "agent.get_policy()\n",
    "\n",
    "# ------------------------------------------------- APPROXIMATE STATE DIST\n",
    "state_dist = get_state_dist(agent, env, 1e7)\n",
    "\n",
    "# ------------------------------------------------- GET AGENT'S VALUE TABLE (for Shapley on value function)\n",
    "agent.get_value_table()\n",
    "\n",
    "# ------------------------------------------------- ALL PI_C\n",
    "pi_Cs = {tuple(C): agent.get_pi_C(C, state_dist, states_to_explain) for C in tqdm_label(F_not_i(np.arange(env.state_dim)), 'Calculating all pi_C')}\n",
    "\n",
    "# ------------------------------------------------- ALL V_C\n",
    "v_Cs = {tuple(C): agent.get_v_C(C, state_dist, states_to_explain) for C in tqdm_label(F_not_i(np.arange(env.state_dim)), 'Calculating all v_C')}\n",
    "\n",
    "# ------------------------------------------------- ALL CHARACTERISTIC VALUES\n",
    "characteristics = Characteristics(env, states_to_explain)\n",
    "local_sverl_characteristics = characteristics.local_sverl_C_values(num_rolls=1e6, pi_Cs=pi_Cs, multi_process=True, num_p=5)\n",
    "global_sverl_characteristics = characteristics.global_sverl_C_values(num_rolls=1e6, pi_Cs=pi_Cs, multi_process=True, num_p=5)\n",
    "shapley_on_policy_characteristics = characteristics.shapley_on_policy(pi_Cs=pi_Cs, multi_process=True, num_p=5)\n",
    "shapley_on_value_characteristics = characteristics.shapley_on_value(v_Cs=v_Cs, multi_process=True, num_p=5)\n",
    "\n",
    "# ------------------------------------------------- SHAPLEY VALUES\n",
    "shapley = Shapley(states_to_explain)\n",
    "for characteristics, filename in zip([local_sverl_characteristics, \n",
    "                                      global_sverl_characteristics, \n",
    "                                      shapley_on_policy_characteristics, \n",
    "                                      shapley_on_value_characteristics], ['local', 'global', 'policy', 'value_function']):\n",
    "    \n",
    "    shapley_values = shapley.run(characteristics)\n",
    "    print(shapley_values)\n",
    "\n",
    "    import pickle\n",
    "    with open('{}.pkl'.format(filename), 'wb') as file: pickle.dump(shapley_values, file)\n"
   ],
   "metadata": {
    "collapsed": false
   },
   "id": "1bdc3c8325035def"
  }
 ],
 "metadata": {
  "kernelspec": {
   "display_name": "Python 3",
   "language": "python",
   "name": "python3"
  },
  "language_info": {
   "codemirror_mode": {
    "name": "ipython",
    "version": 2
   },
   "file_extension": ".py",
   "mimetype": "text/x-python",
   "name": "python",
   "nbconvert_exporter": "python",
   "pygments_lexer": "ipython2",
   "version": "2.7.6"
  }
 },
 "nbformat": 4,
 "nbformat_minor": 5
}
